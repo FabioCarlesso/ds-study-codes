{
  "nbformat": 4,
  "nbformat_minor": 0,
  "metadata": {
    "colab": {
      "name": "SPARK_PTI_FabioCarlesso.ipynb",
      "provenance": [],
      "collapsed_sections": [],
      "toc_visible": true,
      "include_colab_link": true
    },
    "kernelspec": {
      "name": "python3",
      "display_name": "Python 3"
    },
    "language_info": {
      "name": "python"
    }
  },
  "cells": [
    {
      "cell_type": "markdown",
      "metadata": {
        "id": "view-in-github",
        "colab_type": "text"
      },
      "source": [
        "<a href=\"https://colab.research.google.com/github/FabioCarlesso/ds-study-codes/blob/main/Codes/pos/SPARK_PTI_FabioCarlesso.ipynb\" target=\"_parent\"><img src=\"https://colab.research.google.com/assets/colab-badge.svg\" alt=\"Open In Colab\"/></a>"
      ]
    },
    {
      "cell_type": "markdown",
      "metadata": {
        "id": "XEa8RFWKoIgg"
      },
      "source": [
        "# Trabalho de Spark\n",
        "* Curso: Pos Data Science Positivo\n",
        "* Nome: Fabio Nami Carlesso\n",
        "\n"
      ]
    },
    {
      "cell_type": "markdown",
      "metadata": {
        "id": "md_Pv4QvsDdD"
      },
      "source": [
        "### Preparação\n",
        "\n",
        "- instalação de pacotes\n",
        "- puxar os dados"
      ]
    },
    {
      "cell_type": "code",
      "metadata": {
        "id": "tWjg596AsIEK"
      },
      "source": [
        "# !mkdir /data\n",
        "# !cd /data/\n",
        "# !pwd"
      ],
      "execution_count": null,
      "outputs": []
    },
    {
      "cell_type": "code",
      "metadata": {
        "id": "1Qf7tefQsfuT"
      },
      "source": [
        "#!wget http://ns1.xkx.fi/logs.txt\n",
        "#!wget http://ns1.xkx.fi/registrosPlacas.txt"
      ],
      "execution_count": null,
      "outputs": []
    },
    {
      "cell_type": "code",
      "metadata": {
        "colab": {
          "base_uri": "https://localhost:8080/"
        },
        "id": "oa1AcR_xC7p-",
        "outputId": "c04b5459-bcb5-4623-b19e-cdbedcdf757f"
      },
      "source": [
        "from google.colab import drive\n",
        "drive.mount('/content/drive')"
      ],
      "execution_count": null,
      "outputs": [
        {
          "output_type": "stream",
          "name": "stdout",
          "text": [
            "Mounted at /content/drive\n"
          ]
        }
      ]
    },
    {
      "cell_type": "code",
      "metadata": {
        "id": "srv7MU9rs5E2",
        "colab": {
          "base_uri": "https://localhost:8080/"
        },
        "outputId": "a3c00277-725e-4f91-e833-de1ece14246d"
      },
      "source": [
        "!java --version\n",
        "!apt-get install openjdk-8-jdk-headless -qq "
      ],
      "execution_count": null,
      "outputs": [
        {
          "output_type": "stream",
          "name": "stdout",
          "text": [
            "openjdk 11.0.11 2021-04-20\n",
            "OpenJDK Runtime Environment (build 11.0.11+9-Ubuntu-0ubuntu2.18.04)\n",
            "OpenJDK 64-Bit Server VM (build 11.0.11+9-Ubuntu-0ubuntu2.18.04, mixed mode, sharing)\n"
          ]
        }
      ]
    },
    {
      "cell_type": "code",
      "metadata": {
        "id": "6Pmmg4IStRF0"
      },
      "source": [
        "!wget -q https://archive.apache.org/dist/spark/spark-2.4.4/spark-2.4.4-bin-hadoop2.7.tgz"
      ],
      "execution_count": null,
      "outputs": []
    },
    {
      "cell_type": "code",
      "metadata": {
        "id": "Kj3XBMG0tW-F"
      },
      "source": [
        "!tar xf spark-2.4.4-bin-hadoop2.7.tgz"
      ],
      "execution_count": null,
      "outputs": []
    },
    {
      "cell_type": "code",
      "metadata": {
        "id": "Vw3cYObYtdMV"
      },
      "source": [
        "import os\n",
        "os.environ[\"JAVA_HOME\"] = \"/usr/lib/jvm/java-8-openjdk-amd64\"\n",
        "os.environ[\"SPARK_HOME\"] = \"/content/spark-2.4.4-bin-hadoop2.7\""
      ],
      "execution_count": null,
      "outputs": []
    },
    {
      "cell_type": "code",
      "metadata": {
        "id": "kiztV5OJtd70"
      },
      "source": [
        "!pip install -q findspark"
      ],
      "execution_count": null,
      "outputs": []
    },
    {
      "cell_type": "code",
      "metadata": {
        "id": "fmE89iMstf91"
      },
      "source": [
        "import findspark\n",
        "findspark.init(\"spark-2.4.4-bin-hadoop2.7\")"
      ],
      "execution_count": null,
      "outputs": []
    },
    {
      "cell_type": "code",
      "metadata": {
        "id": "a_huBORVtiJl"
      },
      "source": [
        "from pyspark.sql import SparkSession\n",
        "from pyspark import SparkContext, SparkConf\n",
        "\n",
        "conf = SparkConf().set('spark.ui.port','4050')\n",
        "sc = SparkContext(conf=conf,appName=\"ExeApp\")\n",
        "#ss = SparkSession.builder.master('localhost[*]').getOrCreate()\n",
        "ss = SparkSession.builder.master('local[*]').getOrCreate()\n",
        "spark = ss\n",
        "\n",
        "import re"
      ],
      "execution_count": null,
      "outputs": []
    },
    {
      "cell_type": "markdown",
      "metadata": {
        "id": "jHzpWwDxNXNn"
      },
      "source": [
        "## Exercício 2\n",
        "\n",
        "- Objetivo: Identificar os logs em com erro\n",
        "- Ler da pasta /content/drive/MyDrive/AulaSpark/Dados/E2/logs.txt\n",
        "- Passar todas palavras para minúsculas\n",
        "- Pegar apenas as linhas que **contém** a palavra “erro”\n",
        "  - Dica: Utilize\n",
        "    ```\n",
        "    import re\n",
        "    re.match(pattern, string)\n",
        "    ```\n",
        "- Contar as palavras\n",
        "- Ordenar pelas palavras que mais se repetem\n",
        "- Salvar os resultados\n",
        "- Exibir os 20 primeiros erros que mais ocorrem\n"
      ]
    },
    {
      "cell_type": "code",
      "metadata": {
        "id": "t3qmR6CSO1Zt"
      },
      "source": [
        "# Ler da pasta /content/drive/MyDrive/AulaSpark/Dados/E2/logs.txt\n",
        "logfile = \"/content/drive/MyDrive/AulaSparkPTI/Dados/E2/logs.txt\"\n",
        "rddExe2 = sc.textFile(logfile)"
      ],
      "execution_count": null,
      "outputs": []
    },
    {
      "cell_type": "code",
      "metadata": {
        "id": "sLRpl3RrDGUB"
      },
      "source": [
        "# Passar todas palavras para minúsculas\n",
        "rddExe2Lower = rddExe2.map(lambda l: l.lower())"
      ],
      "execution_count": null,
      "outputs": []
    },
    {
      "cell_type": "code",
      "metadata": {
        "id": "NTBnaNtoDyfD"
      },
      "source": [
        "# Pegar apenas as linhas que contém a palavra “erro”\n",
        "rddExe2Erros = rddExe2Lower.filter(lambda l: re.findall(r\"erro\",l))"
      ],
      "execution_count": null,
      "outputs": []
    },
    {
      "cell_type": "code",
      "metadata": {
        "id": "xVWhpVlht2xd"
      },
      "source": [
        "# Contar as palavras\n",
        "rddExe2ErrosContaPalavras = rddExe2Erros.map(lambda l: (l,1)).reduceByKey(lambda l,x: l+x)"
      ],
      "execution_count": null,
      "outputs": []
    },
    {
      "cell_type": "code",
      "metadata": {
        "id": "GPXHmrUmaqwS"
      },
      "source": [
        "# Ordenar pelas palavras que mais se repetem\n",
        "rddExe2ResultOrdenado = rddExe2ErrosContaPalavras.sortBy(lambda l: l[1], False)"
      ],
      "execution_count": null,
      "outputs": []
    },
    {
      "cell_type": "code",
      "metadata": {
        "id": "q_jgs_6Nav5Z"
      },
      "source": [
        "# Salvar os resultados\n",
        "rddExe2Final = (rddExe2ResultOrdenado)\n",
        "rddExe2Final.saveAsTextFile(\"/content/drive/MyDrive/AulaSparkPTI/Resultado/rddExe2\")"
      ],
      "execution_count": null,
      "outputs": []
    },
    {
      "cell_type": "code",
      "metadata": {
        "id": "MvGT5yQ7axLu",
        "colab": {
          "base_uri": "https://localhost:8080/"
        },
        "outputId": "33e3c570-b011-4435-ba37-af20cb5b3b12"
      },
      "source": [
        "# Exibir os 20 primeiros erros que mais ocorrem\n",
        "rddExe2Final.take(20)"
      ],
      "execution_count": null,
      "outputs": [
        {
          "output_type": "execute_result",
          "data": {
            "text/plain": [
              "[('informações\\t07/03/2018 20:59:59\\twindows error reporting\\t1001\\tnenhum\\t\"falha no bucket , tipo 0',\n",
              "  12),\n",
              " ('informações\\t07/03/2018 21:00:06\\twindows error reporting\\t1001\\tnenhum\\t\"falha no bucket , tipo 0',\n",
              "  7),\n",
              " ('informações\\t07/03/2018 21:00:00\\twindows error reporting\\t1001\\tnenhum\\t\"falha no bucket , tipo 0',\n",
              "  6),\n",
              " ('aviso\\t15/04/2018 21:14:25\\tmicrosoft-windows-appmodel-state\\t20\\tnenhum\\treparo disparado porque a operação localsettings com o pacote microsoft.windows.contentdeliverymanager_cw5n1h2txyewy encontrou o erro -2147009096.',\n",
              "  4),\n",
              " ('erro\\t15/04/2018 21:14:25\\tmicrosoft-windows-appmodel-state\\t10\\tnenhum\\tfalha ao carregar as configurações de aplicativo do pacote microsoft.windows.contentdeliverymanager_cw5n1h2txyewy. código de erro: -2147023446',\n",
              "  4),\n",
              " ('nome do evento: skydriveclienterror', 4),\n",
              " ('informações\\t23/04/2018 22:27:33\\twindows error reporting\\t1001\\tnenhum\\t\"falha no bucket , tipo 0',\n",
              "  4),\n",
              " ('informações\\t05/03/2018 12:50:49\\twindows error reporting\\t1001\\tnenhum\\t\"falha no bucket , tipo 0',\n",
              "  4),\n",
              " ('informações\\t22/04/2018 15:13:03\\twindows error reporting\\t1001\\tnenhum\\t\"falha no bucket , tipo 0',\n",
              "  2),\n",
              " ('informações\\t04/04/2018 08:05:19\\twindows error reporting\\t1001\\tnenhum\\t\"falha no bucket , tipo 0',\n",
              "  2),\n",
              " ('informações\\t07/03/2018 21:00:08\\twindows error reporting\\t1001\\tnenhum\\t\"falha no bucket , tipo 0',\n",
              "  2),\n",
              " ('informações\\t05/03/2018 13:00:25\\twindows error reporting\\t1001\\tnenhum\\t\"falha no bucket 127824537390, tipo 5',\n",
              "  2),\n",
              " ('informações\\t05/03/2018 12:50:48\\twindows error reporting\\t1001\\tnenhum\\t\"falha no bucket , tipo 0',\n",
              "  2),\n",
              " ('erro\\t16/04/2018 21:50:51\\tdptf\\t256\\tgeneral\\tintel(r) dynamic platform and thermal framework : esif(8.1.10603.192) type: error',\n",
              "  2),\n",
              " ('informações\\t06/04/2018 09:24:04\\twindows error reporting\\t1001\\tnenhum\\t\"falha no bucket , tipo 0',\n",
              "  2),\n",
              " ('informações\\t14/03/2018 21:01:43\\twindows error reporting\\t1001\\tnenhum\\t\"falha no bucket , tipo 0',\n",
              "  2),\n",
              " ('informações\\t05/03/2018 13:13:59\\twindows error reporting\\t1001\\tnenhum\\t\"falha no bucket , tipo 0',\n",
              "  2),\n",
              " ('informações\\t05/03/2018 13:00:23\\twindows error reporting\\t1001\\tnenhum\\t\"falha no bucket , tipo 0',\n",
              "  2),\n",
              " ('informações\\t05/03/2018 12:52:34\\twindows error reporting\\t1001\\tnenhum\\t\"falha no bucket , tipo 0',\n",
              "  2),\n",
              " ('erro\\t05/03/2018 12:36:20\\tdptf\\t256\\tgeneral\\tintel(r) dynamic platform and thermal framework : esif(8.1.10603.192) type: error',\n",
              "  2)]"
            ]
          },
          "metadata": {},
          "execution_count": 171
        }
      ]
    },
    {
      "cell_type": "markdown",
      "metadata": {
        "id": "NKq7J7yCiJqO"
      },
      "source": [
        "## Exercicio 2b\n",
        "\n",
        "- Objetivo: Identificar os logs em com erro\n",
        "- Ler da pasta /content/drive/MyDrive/AulaSpark/Dados/E2/logs.txt\n",
        "- Passar todas palavras para minúsculas\n",
        "- Pegar apenas as linhas que **iniciam** a palavra “erro”\n",
        "  - Dica: Utilize\n",
        "    ```\n",
        "    import re\n",
        "    re.match(pattern, string)\n",
        "    ```\n",
        "- Filtrar apenas os dígitos (não palavras)\n",
        "- Contar\n",
        "- Ordenar pelas palavras que mais se repetem\n",
        "- Salvar os resultados\n",
        "- Exibir os 20 primeiros erros que mais ocorrem\n"
      ]
    },
    {
      "cell_type": "code",
      "metadata": {
        "id": "a7kGYXpHim1-"
      },
      "source": [
        "# Ler da pasta /content/drive/MyDrive/AulaSpark/Dados/E2/logs.txt\n",
        "logfile = \"/content/drive/MyDrive/AulaSparkPTI/Dados/E2/logs.txt\"\n",
        "rddExe2b = sc.textFile(logfile)"
      ],
      "execution_count": null,
      "outputs": []
    },
    {
      "cell_type": "code",
      "metadata": {
        "id": "negwivVfKJQr"
      },
      "source": [
        "# Passar todas palavras para minúsculas\n",
        "rddExe2bLower = rddExe2b.map(lambda l: l.lower())"
      ],
      "execution_count": null,
      "outputs": []
    },
    {
      "cell_type": "code",
      "metadata": {
        "id": "0hGSQk7pNNRm"
      },
      "source": [
        "# Pegar apenas as linhas que iniciam a palavra “erro”\n",
        "rddExe2bErros = rddExe2bLower.filter(lambda l: re.match(r\"erro\",l))"
      ],
      "execution_count": null,
      "outputs": []
    },
    {
      "cell_type": "code",
      "metadata": {
        "id": "dMlaJA-xOX2X"
      },
      "source": [
        "# Filtrar apenas os dígitos (não palavras)\n",
        "rddExe2bDigitos = rddExe2bErros.flatMap(lambda l: re.split('\\D+', l))"
      ],
      "execution_count": null,
      "outputs": []
    },
    {
      "cell_type": "code",
      "metadata": {
        "id": "Ch78TqIjQGpM"
      },
      "source": [
        "# Contar\n",
        "rddExe2bContaPalavras = rddExe2bDigitos.map(lambda l: (l,1)).reduceByKey(lambda l,x: l+x)"
      ],
      "execution_count": null,
      "outputs": []
    },
    {
      "cell_type": "code",
      "metadata": {
        "id": "eVwrnPAuQxNd"
      },
      "source": [
        "# Ordenar pelas palavras que mais se repetem\n",
        "rddExe2bResultOrdenado = rddExe2bContaPalavras.sortBy(lambda l: l[1], False)"
      ],
      "execution_count": null,
      "outputs": []
    },
    {
      "cell_type": "code",
      "metadata": {
        "id": "WgX4Nk4dQ-8Q"
      },
      "source": [
        "# Salvar os resultados\n",
        "rddExe2bFinal = (rddExe2bResultOrdenado)\n",
        "rddExe2bFinal.saveAsTextFile(\"/content/drive/MyDrive/AulaSparkPTI/Resultado/rddExe2b\")"
      ],
      "execution_count": null,
      "outputs": []
    },
    {
      "cell_type": "code",
      "metadata": {
        "colab": {
          "base_uri": "https://localhost:8080/"
        },
        "id": "3iuDKwZORfWH",
        "outputId": "207eea4a-5294-437e-87f8-96f1139dada6"
      },
      "source": [
        "# Exibir os 20 primeiros erros que mais ocorrem\n",
        "header = rddExe2bFinal.first()\n",
        "rddExe2bFinal = rddExe2bFinal.filter(lambda line: line != header)\n",
        "rddExe2bFinal.take(20)"
      ],
      "execution_count": null,
      "outputs": [
        {
          "output_type": "execute_result",
          "data": {
            "text/plain": [
              "[('2018', 159),\n",
              " ('04', 114),\n",
              " ('1', 99),\n",
              " ('8', 89),\n",
              " ('256', 88),\n",
              " ('10603', 88),\n",
              " ('192', 88),\n",
              " ('0', 85),\n",
              " ('03', 60),\n",
              " ('10', 58),\n",
              " ('21', 45),\n",
              " ('15', 45),\n",
              " ('16', 37),\n",
              " ('12', 34),\n",
              " ('14', 33),\n",
              " ('22', 31),\n",
              " ('1000', 30),\n",
              " ('20', 29),\n",
              " ('100', 28),\n",
              " ('11', 24)]"
            ]
          },
          "metadata": {},
          "execution_count": 179
        }
      ]
    },
    {
      "cell_type": "markdown",
      "metadata": {
        "id": "aa78i0ioinX6"
      },
      "source": [
        "## Exercicio 3\n",
        "\n",
        "-  Objetivo Identificar os veículos\n",
        "- Utilizando as informações da Pasta Dados/E3/registrosPlacas.txt, levantar as\n",
        "seguintes informações:\n",
        "  - Preparar os dados\n",
        "  - Identificar o veículo que tem mais registros\n",
        "  - Identificar qual veículo teve a maior velocidade\n",
        "  - Identificar qual veículo teve a maior velocidade média\n"
      ]
    },
    {
      "cell_type": "code",
      "metadata": {
        "id": "hIFJp8_HiwcE"
      },
      "source": [
        "# Preparar os dados\n",
        "logfile = \"/content/drive/MyDrive/AulaSparkPTI/Dados/E3/registrosPlacas.txt\"\n",
        "rddExe3 = sc.textFile(logfile)"
      ],
      "execution_count": null,
      "outputs": []
    },
    {
      "cell_type": "code",
      "metadata": {
        "colab": {
          "base_uri": "https://localhost:8080/"
        },
        "id": "nMRtxE2rZD-q",
        "outputId": "8d43ce50-3529-417a-e87e-291a6634878b"
      },
      "source": [
        "# Identificar o veículo que tem mais registros\n",
        "rddExe3Rep = rddExe3.map(lambda l: l.replace(' ','').replace('km/h',''))\n",
        "rddExe3Split = rddExe3Rep.map(lambda l: l.replace('\\t',',').split(','))\n",
        "rddExe3Result = rddExe3Split.map(lambda l: (l[0], int(l[-1])))\n",
        "rddExe3Result.map(lambda l: (l[0],1)).reduceByKey(lambda l,x: l+x).sortBy(lambda l: l, False).collect()"
      ],
      "execution_count": null,
      "outputs": [
        {
          "output_type": "execute_result",
          "data": {
            "text/plain": [
              "[('ZXH5193', 7000),\n",
              " ('ZCN1774', 7000),\n",
              " ('YRY3558', 7000),\n",
              " ('YRX1354', 7000),\n",
              " ('YEW7050', 7000),\n",
              " ('XNM0943', 7000),\n",
              " ('XLQ5165', 7000),\n",
              " ('XJR4324', 7000),\n",
              " ('XGC4049', 7000),\n",
              " ('XDB0846', 7000),\n",
              " ('WYL3175', 7000),\n",
              " ('WIZ0836', 7000),\n",
              " ('WGV7116', 7000),\n",
              " ('VUA2786', 7000),\n",
              " ('VQO2223', 7000),\n",
              " ('VQL5433', 7000),\n",
              " ('VPV4027', 7000),\n",
              " ('VBS4638', 7000),\n",
              " ('VAL5944', 7000),\n",
              " ('UJH3855', 7000),\n",
              " ('UFC2015', 7000),\n",
              " ('TVH3486', 7000),\n",
              " ('TIS9956', 7000),\n",
              " ('SCH5396', 7000),\n",
              " ('RZZ3714', 7000),\n",
              " ('RZW5936', 7000),\n",
              " ('RVO0854', 7000),\n",
              " ('RUH8971', 7000),\n",
              " ('RQO8737', 7000),\n",
              " ('RQI5894', 7000),\n",
              " ('RFR3882', 7000),\n",
              " ('RDN8228', 7000),\n",
              " ('QZQ0584', 7000),\n",
              " ('QEP6609', 7000),\n",
              " ('PXB5525', 7000),\n",
              " ('PTV2488', 7000),\n",
              " ('PTU2915', 7000),\n",
              " ('PRV0453', 7000),\n",
              " ('POU6819', 7000),\n",
              " ('PKT4014', 7000),\n",
              " ('PJG8910', 7000),\n",
              " ('PFH5551', 7000),\n",
              " ('PEW9887', 7000),\n",
              " ('PBB5517', 7000),\n",
              " ('OYU5969', 7000),\n",
              " ('OWB6337', 7000),\n",
              " ('OQQ6458', 7000),\n",
              " ('OFN8196', 7000),\n",
              " ('OCN0487', 7000),\n",
              " ('NVM7016', 7000),\n",
              " ('NQK5950', 7000),\n",
              " ('NHZ7539', 7000),\n",
              " ('NDH5121', 7000),\n",
              " ('MJG5107', 7000),\n",
              " ('MGO1072', 7000),\n",
              " ('LSG4437', 7000),\n",
              " ('LJF1109', 7000),\n",
              " ('LCM5812', 7000),\n",
              " ('KZH5426', 7000),\n",
              " ('KXU2333', 7000),\n",
              " ('KUmuarama4002', 7000),\n",
              " ('KLR9111', 7000),\n",
              " ('KFE0224', 7000),\n",
              " ('KES0414', 7000),\n",
              " ('JVE3255', 7000),\n",
              " ('JSQ9319', 7000),\n",
              " ('JCK4242', 7000),\n",
              " ('IXW8614', 7000),\n",
              " ('ITQ3207', 7000),\n",
              " ('IHD9565', 7000),\n",
              " ('IDY9933', 7000),\n",
              " ('HRT3510', 7000),\n",
              " ('HHS9741', 7000),\n",
              " ('HDH6968', 7000),\n",
              " ('GZH9344', 7000),\n",
              " ('GRN7794', 7000),\n",
              " ('GKK7588', 7000),\n",
              " ('FYO6485', 7000),\n",
              " ('FPD5664', 7000),\n",
              " ('FMS8593', 7000),\n",
              " ('FGU9701', 7000),\n",
              " ('FGC9355', 7000),\n",
              " ('EZR8533', 7000),\n",
              " ('EZB0648', 7000),\n",
              " ('EOJ4050', 7000),\n",
              " ('DXF3338', 7000),\n",
              " ('DWF3021', 7000),\n",
              " ('DTV4023', 7000),\n",
              " ('DRV0405', 7000),\n",
              " ('DKG9712', 7000),\n",
              " ('DHY4596', 7000),\n",
              " ('DHB4847', 7000),\n",
              " ('DCP1976', 7000),\n",
              " ('CVZ5774', 7000),\n",
              " ('CVV0439', 7000),\n",
              " ('BZT7406', 7000),\n",
              " ('BYO5817', 7000),\n",
              " ('BWD3055', 7000),\n",
              " ('BQX7899', 7000),\n",
              " ('AYC9263', 7000)]"
            ]
          },
          "metadata": {},
          "execution_count": 181
        }
      ]
    },
    {
      "cell_type": "code",
      "metadata": {
        "colab": {
          "base_uri": "https://localhost:8080/"
        },
        "id": "JAdK_nHEpXCz",
        "outputId": "288db341-00fb-44c2-e6ab-73ea2a2f8327"
      },
      "source": [
        "# Identificar qual veículo teve a maior velocidade\n",
        "rddExe3Result.max(lambda l: l[1])"
      ],
      "execution_count": null,
      "outputs": [
        {
          "output_type": "execute_result",
          "data": {
            "text/plain": [
              "('GZH9344', 162)"
            ]
          },
          "metadata": {},
          "execution_count": 182
        }
      ]
    },
    {
      "cell_type": "code",
      "metadata": {
        "id": "FQmz9nY-p6YN",
        "colab": {
          "base_uri": "https://localhost:8080/"
        },
        "outputId": "d37c616e-81d2-4d2d-87db-d756ec020b5d"
      },
      "source": [
        "# Identificar qual veículo teve a maior velocidade média\n",
        "# rddExe3Result.avg(lambda l: l[1])\n",
        "\n",
        "aTuple = (0,0)\n",
        "rddExe3ResultMed = rddExe3Result.aggregateByKey(aTuple, lambda a,b: (a[0]+b, a[1]+1), lambda a,b: (a[0]+b[0], a[1]+b[1]))\n",
        "rddExe3Final = rddExe3ResultMed.map(lambda a: (a[0], int(a[1][0]/a[1][1])))\n",
        "rddExe3Final.max(lambda l: l[1])\n"
      ],
      "execution_count": null,
      "outputs": [
        {
          "output_type": "execute_result",
          "data": {
            "text/plain": [
              "('EZB0648', 108)"
            ]
          },
          "metadata": {},
          "execution_count": 183
        }
      ]
    },
    {
      "cell_type": "markdown",
      "metadata": {
        "id": "DrPIgtn_9B8c"
      },
      "source": [
        "## Trabalho\n",
        "\n",
        "Com os arquivos contidos em /content/drive/MyDrive/AulaSparkPti/Dados/ETrabalho descritos abaixo:\n",
        "\n",
        "* cities.csv\n",
        " - id\n",
        "* lines.csv\n",
        " - city_id\n",
        "* station_lines.csv\n",
        " - line_id\n",
        " - station_id\n",
        "* station.csv\n",
        " - city_id\n",
        "\n",
        "#### Responder:\n",
        "* Qual país possui cidades?\n",
        "* Qual cidade possui linhas?\n",
        "* Quais são 10 linhas que passam por mais cidades?\n",
        "* Qual é o país que tem mais linhas?\n",
        "* A linha que tem mais estações em seu percurso?\n",
        "* Quais são as 10 cidades que possuem as linhas com mais estações?\n",
        "* Qual país são os mais presentes entre essas 10 cidades?\n",
        "* O país que tem a maior média de estações?\n",
        "\n",
        "\n",
        "### Desafio, crie um streaming que salve a quantidade de passageiros por linha por hora\n",
        "\n",
        "O streaming deve simular a entrada `[passageiro linha_id]` via tcp\n",
        "favor simular um socket. No linux temos o comando `nc -lk 9000` para esta finalidade\n"
      ]
    },
    {
      "cell_type": "code",
      "metadata": {
        "id": "_1iDVJ-b-m5X"
      },
      "source": [
        "from pyspark.sql import SQLContext\n",
        "from pyspark.sql import functions as F\n",
        "sqlc = SQLContext(sc)"
      ],
      "execution_count": null,
      "outputs": []
    },
    {
      "cell_type": "code",
      "metadata": {
        "id": "45TVBaXVtf-a"
      },
      "source": [
        "dfCities = sqlc.read.csv(path='/content/drive/MyDrive/AulaSparkPTI/Dados/ETrabalho/cities.csv',encoding=\"utf-8\", header=True)\n",
        "dfLines = sqlc.read.csv(path='/content/drive/MyDrive/AulaSparkPTI/Dados/ETrabalho/lines.csv',encoding=\"utf-8\", header=True)\n",
        "dfStationLines = sqlc.read.csv(path='/content/drive/MyDrive/AulaSparkPTI/Dados/ETrabalho/station_lines.csv',encoding=\"utf-8\", header=True)\n",
        "dfStation = sqlc.read.csv(path='/content/drive/MyDrive/AulaSparkPTI/Dados/ETrabalho/stations.csv',encoding=\"utf-8\", header=True)"
      ],
      "execution_count": null,
      "outputs": []
    },
    {
      "cell_type": "code",
      "metadata": {
        "colab": {
          "base_uri": "https://localhost:8080/"
        },
        "id": "j7o4CvGltqYs",
        "outputId": "3059051c-53bd-455d-f5f6-65cd4f843adc"
      },
      "source": [
        "dfCities.printSchema()\n",
        "dfLines.printSchema()\n",
        "dfStationLines.printSchema()\n",
        "dfStation.printSchema()"
      ],
      "execution_count": null,
      "outputs": [
        {
          "output_type": "stream",
          "name": "stdout",
          "text": [
            "root\n",
            " |-- id: string (nullable = true)\n",
            " |-- name: string (nullable = true)\n",
            " |-- coords: string (nullable = true)\n",
            " |-- start_year: string (nullable = true)\n",
            " |-- url_name: string (nullable = true)\n",
            " |-- country: string (nullable = true)\n",
            " |-- country_state: string (nullable = true)\n",
            "\n",
            "root\n",
            " |-- id: string (nullable = true)\n",
            " |-- city_id: string (nullable = true)\n",
            " |-- name: string (nullable = true)\n",
            " |-- url_name: string (nullable = true)\n",
            " |-- color: string (nullable = true)\n",
            " |-- system_id: string (nullable = true)\n",
            " |-- transport_mode_id: string (nullable = true)\n",
            "\n",
            "root\n",
            " |-- id: string (nullable = true)\n",
            " |-- station_id: string (nullable = true)\n",
            " |-- line_id: string (nullable = true)\n",
            " |-- city_id: string (nullable = true)\n",
            " |-- created_at: string (nullable = true)\n",
            " |-- updated_at: string (nullable = true)\n",
            "\n",
            "root\n",
            " |-- id: string (nullable = true)\n",
            " |-- name: string (nullable = true)\n",
            " |-- geometry: string (nullable = true)\n",
            " |-- buildstart: string (nullable = true)\n",
            " |-- opening: string (nullable = true)\n",
            " |-- closure: string (nullable = true)\n",
            " |-- city_id: string (nullable = true)\n",
            "\n"
          ]
        }
      ]
    },
    {
      "cell_type": "code",
      "metadata": {
        "colab": {
          "base_uri": "https://localhost:8080/"
        },
        "id": "-Q2dMR5EuDn0",
        "outputId": "13583faf-2cb1-4b6a-c851-aa6632d5a889"
      },
      "source": [
        "# Qual país possui cidades?\n",
        "dfCities.select('country').distinct().show()"
      ],
      "execution_count": null,
      "outputs": [
        {
          "output_type": "stream",
          "name": "stdout",
          "text": [
            "+-----------+\n",
            "|    country|\n",
            "+-----------+\n",
            "|   Paraguay|\n",
            "|     Russia|\n",
            "|    Senegal|\n",
            "|     Sweden|\n",
            "|     Guyana|\n",
            "|Philippines|\n",
            "|   Djibouti|\n",
            "|   Malaysia|\n",
            "|  Singapore|\n",
            "|     Turkey|\n",
            "|    Germany|\n",
            "|     France|\n",
            "|     Greece|\n",
            "|    Algeria|\n",
            "|  Argentina|\n",
            "|    Belgium|\n",
            "|    Ecuador|\n",
            "| Madagascar|\n",
            "|    Finland|\n",
            "|    Myanmar|\n",
            "+-----------+\n",
            "only showing top 20 rows\n",
            "\n"
          ]
        }
      ]
    },
    {
      "cell_type": "code",
      "metadata": {
        "colab": {
          "base_uri": "https://localhost:8080/"
        },
        "id": "WWi1AxOZt-Tv",
        "outputId": "d02759dd-c251-45a9-921c-1c1f2813146d"
      },
      "source": [
        "dfCities.createOrReplaceTempView('cities')\n",
        "dfLines.createOrReplaceTempView('lines')\n",
        "dfStationLines.createOrReplaceTempView('station_lines')\n",
        "dfStation.createOrReplaceTempView('stations')\n",
        "\n",
        "# Qual cidade possui linhas?\n",
        "sqlc.sql('select distinct(c.name) from cities c inner join lines l where c.id = l.city_id ').show()"
      ],
      "execution_count": null,
      "outputs": [
        {
          "output_type": "stream",
          "name": "stdout",
          "text": [
            "+-----------+\n",
            "|       name|\n",
            "+-----------+\n",
            "|   Winnipeg|\n",
            "|       Lima|\n",
            "|     Madrid|\n",
            "|     Prague|\n",
            "|     Ottawa|\n",
            "|  Edinburgh|\n",
            "|     Dallas|\n",
            "|  Singapore|\n",
            "|       Nice|\n",
            "| Manchester|\n",
            "|   Dzaoudzi|\n",
            "|Montpellier|\n",
            "|      Dijon|\n",
            "|    Beijing|\n",
            "|   Grenoble|\n",
            "|     Lisbon|\n",
            "|  Stockholm|\n",
            "|    Glasgow|\n",
            "|Los Angeles|\n",
            "|     Angers|\n",
            "+-----------+\n",
            "only showing top 20 rows\n",
            "\n"
          ]
        }
      ]
    },
    {
      "cell_type": "code",
      "metadata": {
        "colab": {
          "base_uri": "https://localhost:8080/"
        },
        "id": "Q5w5kAuoxScZ",
        "outputId": "a8b81d26-ca05-4af2-f865-c2c93e3640f0"
      },
      "source": [
        "# Quais são 10 linhas que passam por mais cidades?\n",
        "sqlc.sql('select l.name, count(distinct(c.name)) as cnt from cities c inner join lines l where c.id = l.city_id group by l.name order by cnt desc').show(10)"
      ],
      "execution_count": null,
      "outputs": [
        {
          "output_type": "stream",
          "name": "stdout",
          "text": [
            "+--------+---+\n",
            "|    name|cnt|\n",
            "+--------+---+\n",
            "|       A| 15|\n",
            "|       B| 10|\n",
            "|       1|  9|\n",
            "|       C|  8|\n",
            "|      T1|  8|\n",
            "|       3|  7|\n",
            "|      T2|  7|\n",
            "|      M1|  7|\n",
            "|Red Line|  7|\n",
            "|       5|  6|\n",
            "+--------+---+\n",
            "only showing top 10 rows\n",
            "\n"
          ]
        }
      ]
    },
    {
      "cell_type": "code",
      "metadata": {
        "colab": {
          "base_uri": "https://localhost:8080/"
        },
        "id": "7TTQO1h5xx-2",
        "outputId": "4029eb8e-abc1-44bc-df09-f74f1efe86fb"
      },
      "source": [
        "# Qual é o país que tem mais linhas?\n",
        "sqlc.sql('select c.country, count(distinct(l.name)) as cnt from cities c inner join lines l where c.id = l.city_id group by c.country order by cnt desc').show(1)"
      ],
      "execution_count": null,
      "outputs": [
        {
          "output_type": "stream",
          "name": "stdout",
          "text": [
            "+-------+---+\n",
            "|country|cnt|\n",
            "+-------+---+\n",
            "|  Japan|343|\n",
            "+-------+---+\n",
            "only showing top 1 row\n",
            "\n"
          ]
        }
      ]
    },
    {
      "cell_type": "code",
      "metadata": {
        "colab": {
          "base_uri": "https://localhost:8080/"
        },
        "id": "tHGp_N8_x4PG",
        "outputId": "bdc17215-737b-4aa2-d247-0226e3e87662"
      },
      "source": [
        "# A linha que tem mais estações em seu percurso?\n",
        "sqlc.sql('select l.name, count(distinct(s.station_id)) as cnt from lines l inner join station_lines s where l.id = s.line_id group by l.name order by cnt desc').show(1)"
      ],
      "execution_count": null,
      "outputs": [
        {
          "output_type": "stream",
          "name": "stdout",
          "text": [
            "+----+---+\n",
            "|name|cnt|\n",
            "+----+---+\n",
            "|   A|417|\n",
            "+----+---+\n",
            "only showing top 1 row\n",
            "\n"
          ]
        }
      ]
    },
    {
      "cell_type": "code",
      "metadata": {
        "colab": {
          "base_uri": "https://localhost:8080/"
        },
        "id": "zff7iDk7x9nM",
        "outputId": "208090ad-3bf6-421d-e1f4-36eb155b8686"
      },
      "source": [
        "# Quais são as 10 cidades que possuem as linhas com mais estações?\n",
        "sqlc.sql('select c.name, count(distinct(s.station_id)) as cnt from lines l inner join station_lines s inner join cities c where l.city_id = c.id and l.id = s.line_id group by c.name order by cnt desc').show(10)"
      ],
      "execution_count": null,
      "outputs": [
        {
          "output_type": "stream",
          "name": "stdout",
          "text": [
            "+------------+----+\n",
            "|        name| cnt|\n",
            "+------------+----+\n",
            "|       Tokyo|3335|\n",
            "|       Osaka|1278|\n",
            "|    New York|1143|\n",
            "|      London| 911|\n",
            "|       Paris| 896|\n",
            "|Buenos Aires| 683|\n",
            "| Mexico City| 467|\n",
            "|    Shanghai| 404|\n",
            "|      Boston| 372|\n",
            "|    Santiago| 340|\n",
            "+------------+----+\n",
            "only showing top 10 rows\n",
            "\n"
          ]
        }
      ]
    },
    {
      "cell_type": "code",
      "metadata": {
        "colab": {
          "base_uri": "https://localhost:8080/"
        },
        "id": "9u1NzWI3yGi-",
        "outputId": "f2f90264-08df-478d-c74c-8f3263cda486"
      },
      "source": [
        "# Qual país são os mais presentes entre essas 10 cidades?\n",
        "df = sqlc.sql('select c.country, c.name, count(distinct(s.station_id)) as cnt from lines l inner join station_lines s inner join cities c where l.city_id = c.id and l.id = s.line_id group by c.country, c.name order by cnt desc limit 10')\n",
        "df.groupBy('country').agg(F.count('country')).show()"
      ],
      "execution_count": null,
      "outputs": [
        {
          "output_type": "stream",
          "name": "stdout",
          "text": [
            "+-------------+--------------+\n",
            "|      country|count(country)|\n",
            "+-------------+--------------+\n",
            "|        Japan|             2|\n",
            "|United States|             2|\n",
            "|      England|             1|\n",
            "|       France|             1|\n",
            "|    Argentina|             1|\n",
            "|       Mexico|             1|\n",
            "|        China|             1|\n",
            "|        Chile|             1|\n",
            "+-------------+--------------+\n",
            "\n"
          ]
        }
      ]
    },
    {
      "cell_type": "code",
      "metadata": {
        "colab": {
          "base_uri": "https://localhost:8080/"
        },
        "id": "ITMcWyQUyJMx",
        "outputId": "73bf923a-23ad-4a1b-9862-8e8ad7ebb341"
      },
      "source": [
        "# O país que tem a maior média de estações?\n",
        "sqlc.sql('select c.country, avg(s.station_id) as mean from lines l inner join station_lines s inner join cities c where l.city_id = c.id and l.id = s.line_id group by c.country order by mean desc').show(1)"
      ],
      "execution_count": null,
      "outputs": [
        {
          "output_type": "stream",
          "name": "stdout",
          "text": [
            "+-------+------------------+\n",
            "|country|              mean|\n",
            "+-------+------------------+\n",
            "|Bolivia|16070.472222222223|\n",
            "+-------+------------------+\n",
            "only showing top 1 row\n",
            "\n"
          ]
        }
      ]
    }
  ]
}