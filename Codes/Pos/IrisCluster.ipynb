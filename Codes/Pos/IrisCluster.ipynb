{
  "nbformat": 4,
  "nbformat_minor": 0,
  "metadata": {
    "colab": {
      "name": "IrisCluster.ipynb",
      "provenance": [],
      "authorship_tag": "ABX9TyMjIFUHNts2Z46zW4HdZKvm",
      "include_colab_link": true
    },
    "kernelspec": {
      "name": "python3",
      "display_name": "Python 3"
    },
    "language_info": {
      "name": "python"
    }
  },
  "cells": [
    {
      "cell_type": "markdown",
      "metadata": {
        "id": "view-in-github",
        "colab_type": "text"
      },
      "source": [
        "<a href=\"https://colab.research.google.com/github/FabioCarlesso/ds-study-codes/blob/main/Codes/Pos/IrisCluster.ipynb\" target=\"_parent\"><img src=\"https://colab.research.google.com/assets/colab-badge.svg\" alt=\"Open In Colab\"/></a>"
      ]
    },
    {
      "cell_type": "code",
      "metadata": {
        "colab": {
          "base_uri": "https://localhost:8080/",
          "height": 451
        },
        "id": "tZB3-JjV25j2",
        "outputId": "8c1599e7-bd55-49f6-c2d2-3bb1488e20ca"
      },
      "source": [
        "#Bibliotecas para instalar\n",
        "#Pandas\n",
        "#numpy\n",
        "#matplotlib\n",
        "#sklearn\n",
        "#scipy\n",
        "# baixar iris.csv da pasta de dados do módulo\n",
        "import pandas as pd\n",
        "import numpy as np\n",
        "\n",
        "import matplotlib.pyplot as plt\n",
        "from sklearn.cluster import KMeans\n",
        "from sklearn import metrics\n",
        "from scipy.spatial.distance import euclidean, cdist\n",
        "\n",
        "#objeto para os dados\n",
        "iris = pd.read_csv('iris.csv') #, usecols=[0,1,2,3]\n",
        "\n",
        "#Dados para plotagem\n",
        "x0=iris.iloc[:,0]\n",
        "x1=iris.iloc[:,1]\n",
        "x2=iris.iloc[:,2]\n",
        "x3=iris.iloc[:,3]\n",
        "\n",
        "\n",
        "iris.y = iris.iloc[:,4]#isolar a coluna classe\n",
        "iris.x = iris.drop(columns=['class '],axis=1) #isolar as colunas independentes\n",
        "\n",
        "fig,ax =plt.subplots()\n",
        "\n",
        "#Agrupar os objetos em um lista de vetores\n",
        "X = np.array(list(zip(x0,x1,x2,x3))).reshape(len(x0),4)\n",
        "\n",
        "\n",
        "KmeansModel = KMeans(n_clusters=2).fit(X)\n",
        "print('########################')\n",
        "print(KmeansModel.cluster_centers_)\n",
        "print(KmeansModel.inertia_)\n",
        "print('########################')\n",
        "\n",
        "#Calcular as ditorções\n",
        "distorcoes=[]\n",
        "\n",
        "K = range(1,11) # Criando uma lista de valores (de 1 a 10 clusters para avaliar o ganho)\n",
        "for k in K:\n",
        "    # obtenção provisória de um modelo de clusters com k grupos\n",
        "    KmeansModel = KMeans(n_clusters=k).fit(X)\n",
        "\n",
        "    distorcoes.append(\n",
        "        sum(\n",
        "            np.min(\n",
        "                cdist(X, KmeansModel.cluster_centers_, 'euclidean')\n",
        "                , axis=1)) / X.shape[0])\n",
        "\n",
        "print(distorcoes)\n",
        "\n",
        "# Setup e impressão do gráfico Elbow\n",
        "ax.plot(K, distorcoes)\n",
        "ax.set(xlabel='Clusters', ylabel='Distorcao',\n",
        "       title='Método Elbow')\n",
        "\n",
        "plt.savefig('elbow_dist.png')\n",
        "plt.show()"
      ],
      "execution_count": null,
      "outputs": [
        {
          "output_type": "stream",
          "text": [
            "/usr/local/lib/python3.7/dist-packages/ipykernel_launcher.py:26: UserWarning: Pandas doesn't allow columns to be created via a new attribute name - see https://pandas.pydata.org/pandas-docs/stable/indexing.html#attribute-access\n",
            "/usr/local/lib/python3.7/dist-packages/ipykernel_launcher.py:27: UserWarning: Pandas doesn't allow columns to be created via a new attribute name - see https://pandas.pydata.org/pandas-docs/stable/indexing.html#attribute-access\n"
          ],
          "name": "stderr"
        },
        {
          "output_type": "stream",
          "text": [
            "########################\n",
            "[[6.30103093 2.88659794 4.95876289 1.69587629]\n",
            " [5.00566038 3.36037736 1.56226415 0.28867925]]\n",
            "152.36870647733906\n",
            "########################\n",
            "[1.943034159037026, 0.856027968244863, 0.648839494895334, 0.5581937771352218, 0.5104611995137194, 0.46638747942971565, 0.4372158464586666, 0.4114420911082941, 0.4008392975765229, 0.3827659406541688]\n"
          ],
          "name": "stdout"
        },
        {
          "output_type": "display_data",
          "data": {
            "image/png": "[encoded data removed]",
            "text/plain": [
              "<Figure size 432x288 with 1 Axes>"
            ]
          },
          "metadata": {
            "tags": [],
            "needs_background": "light"
          }
        }
      ]
    },
    {
      "cell_type": "code",
      "metadata": {
        "colab": {
          "base_uri": "https://localhost:8080/",
          "height": 454
        },
        "id": "bL7xqcympdBW",
        "outputId": "c2e96fa7-e510-48d2-8476-a61dfb235bfd"
      },
      "source": [
        "#objeto para os dados\n",
        "iris = pd.read_csv('iris.csv') #, usecols=[0,1,2,3]\n",
        "\n",
        "#Dados para plotagem\n",
        "x0=iris.iloc[:,0]\n",
        "x1=iris.iloc[:,1]\n",
        "x2=iris.iloc[:,2]\n",
        "x3=iris.iloc[:,3]\n",
        "\n",
        "iris.y = iris.iloc[:,4]#isolar a coluna classe\n",
        "iris.x = iris.drop(columns=['class '],axis=1) #isolar as colunas independentes\n",
        "\n",
        "fig,ax =plt.subplots()\n",
        "\n",
        "#Agrupar os objetos em um lista de vetores\n",
        "X = np.array(list(zip(x0,x1,x2,x3))).reshape(len(x0),4)\n",
        "\n",
        "\n",
        "KmeansModel = KMeans(n_clusters=2).fit(X)\n",
        "print('########################')\n",
        "# Imprimir os centroides\n",
        "print(KmeansModel.cluster_centers_)\n",
        "# Imprimir Inercia do  modelo obtido de clusters\n",
        "print(KmeansModel.inertia_)\n",
        "print('########################')\n",
        "\n",
        "#Calcular as ditorções\n",
        "\n",
        "inercias = []\n",
        "K = range(1, 11)\n",
        "\n",
        "for k in K:\n",
        "    Kmeans = KMeans(n_clusters= k).fit(X)\n",
        "    inercias.append(Kmeans.inertia_)\n",
        "\n",
        "\n",
        "# Setup e impressão do gráfico Elbow\n",
        "# ax.plot(K, inercias)\n",
        "# ax.set(xlabel='Clusters', ylabel='Inercias',\n",
        "#        title='Método Elbow')\n",
        "\n",
        "# plt.savefig('elbow_dist.png')\n",
        "# plt.show()\n",
        "\n",
        "# # Setup e impressão do gráfico Elbow\n",
        "color = 'tab:red'\n",
        "ax.plot(K, distorcoes, color='tab:red')\n",
        "ax.set_xlabel('Clusters')\n",
        "ax.set_ylabel('Distorções')\n",
        "ax2 = ax.twinx()\n",
        "ax2.plot(K, inercias, color='tab:blue')\n",
        "ax2.set_ylabel('Inércias')\n",
        "# ax.set(xlabel=\"Clusters\", title=\"Método Elbow\")\n",
        "plt.show()"
      ],
      "execution_count": null,
      "outputs": [
        {
          "output_type": "stream",
          "text": [
            "/usr/local/lib/python3.7/dist-packages/ipykernel_launcher.py:10: UserWarning: Pandas doesn't allow columns to be created via a new attribute name - see https://pandas.pydata.org/pandas-docs/stable/indexing.html#attribute-access\n",
            "  # Remove the CWD from sys.path while we load stuff.\n",
            "/usr/local/lib/python3.7/dist-packages/ipykernel_launcher.py:11: UserWarning: Pandas doesn't allow columns to be created via a new attribute name - see https://pandas.pydata.org/pandas-docs/stable/indexing.html#attribute-access\n",
            "  # This is added back by InteractiveShellApp.init_path()\n"
          ],
          "name": "stderr"
        },
        {
          "output_type": "stream",
          "text": [
            "########################\n",
            "[[6.30103093 2.88659794 4.95876289 1.69587629]\n",
            " [5.00566038 3.36037736 1.56226415 0.28867925]]\n",
            "152.36870647733906\n",
            "########################\n"
          ],
          "name": "stdout"
        },
        {
          "output_type": "display_data",
          "data": {
            "image/png": "[encoded data removed]",
            "text/plain": [
              "<Figure size 432x288 with 2 Axes>"
            ]
          },
          "metadata": {
            "tags": [],
            "needs_background": "light"
          }
        }
      ]
    }
  ]
}