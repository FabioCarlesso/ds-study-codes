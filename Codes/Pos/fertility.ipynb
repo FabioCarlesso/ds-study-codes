{
  "nbformat": 4,
  "nbformat_minor": 0,
  "metadata": {
    "colab": {
      "name": "fertility.ipynb",
      "provenance": [],
      "authorship_tag": "ABX9TyNieGBbbD7NyvFRWwHUtlH1",
      "include_colab_link": true
    },
    "kernelspec": {
      "name": "python3",
      "display_name": "Python 3"
    },
    "language_info": {
      "name": "python"
    }
  },
  "cells": [
    {
      "cell_type": "markdown",
      "metadata": {
        "id": "view-in-github",
        "colab_type": "text"
      },
      "source": [
        "<a href=\"https://colab.research.google.com/github/FabioCarlesso/ds-study-codes/blob/main/Codes/pos/fertility.ipynb\" target=\"_parent\"><img src=\"https://colab.research.google.com/assets/colab-badge.svg\" alt=\"Open In Colab\"/></a>"
      ]
    },
    {
      "cell_type": "code",
      "metadata": {
        "colab": {
          "base_uri": "https://localhost:8080/"
        },
        "id": "d33oypHD2Lah",
        "outputId": "d61e0d38-58fd-441a-c09c-801651e3bbc9"
      },
      "source": [
        "\n",
        "from imblearn.over_sampling import SMOTE\n",
        "import pandas as pd\n",
        "from collections import Counter\n",
        "\n",
        "#1. Abrir o arquivo fertility\n",
        "dados = pd.read_csv('/content/fertility_Diagnosis.txt')\n",
        "print(dados.columns)\n",
        "\n",
        "#2. Segmentar: parte X (atributos); parte Y (classe)\n",
        "#Segmento dos atributos\n",
        "dados.atributos = dados.drop(columns=['Output'])\n",
        "#Segmento da classe\n",
        "dados.classe = dados['Output']\n",
        "cont_classe = Counter(dados.classe)\n",
        "print('Frequencia de classes', cont_classe)\n",
        "\n",
        "#3. Balancear os dados\n",
        "oversample = SMOTE() #criar um objeto com o SMOTE de base\n",
        "X, Y = oversample.fit_resample(dados.atributos,dados.classe)\n",
        "#o SMOTE recebe as partes originais e retorna equivalentes partes balanceadas\n",
        "\n",
        "cont_y =Counter(Y)\n",
        "print('Frequencia de classes após balanceamento', cont_y)\n",
        "\n",
        "#4.Normalizar os dados\n",
        "\n",
        "#5.Segmentar em dados para aprendizado e dados para testes\n",
        "#conjunto de atributos para aprendizado\n",
        "#conjunto de classes para aprendizados, paralelo ao conjunto de atributos\n",
        "\n",
        "#conjunto de atributos para testes\n",
        "#conjunto de classes para testes\n",
        "\n",
        "from sklearn.model_selection import train_test_split\n",
        "X_train,X_test,Y_train,Y_test = train_test_split(X,Y,test_size=0.3)#Teste baseado em holdout (dois segmentos)\n",
        "\n",
        "\n",
        "#6.Obter o modelo\n",
        "from sklearn.ensemble import RandomForestClassifier\n",
        "\n",
        "rf_fertility = RandomForestClassifier().fit(X_train,Y_train)#Obtem o modelo e cria um objeto [rf_fertility]\n",
        "#pre teste do modelo\n",
        "#passar o X_test para o modelo obtido, retornando para um vetor\n",
        "y_previsto = rf_fertility.predict(X_test)\n",
        "print('########################')\n",
        "print('Classes previstas com o X_test')\n",
        "print(y_previsto)\n",
        "\n",
        "#Para verificar a acurácia do modelo obtido comparar y_previsto com o Y_test\n",
        "from sklearn import metrics\n",
        "print('Acurácia global:', metrics.accuracy_score(Y_test,y_previsto))\n"
      ],
      "execution_count": null,
      "outputs": [
        {
          "output_type": "stream",
          "text": [
            "/usr/local/lib/python3.7/dist-packages/sklearn/externals/six.py:31: FutureWarning: The module is deprecated in version 0.21 and will be removed in version 0.23 since we've dropped support for Python 2.7. Please rely on the official version of six (https://pypi.org/project/six/).\n",
            "  \"(https://pypi.org/project/six/).\", FutureWarning)\n",
            "/usr/local/lib/python3.7/dist-packages/sklearn/utils/deprecation.py:144: FutureWarning: The sklearn.neighbors.base module is  deprecated in version 0.22 and will be removed in version 0.24. The corresponding classes / functions should instead be imported from sklearn.neighbors. Anything that cannot be imported from sklearn.neighbors is now part of the private API.\n",
            "  warnings.warn(message, FutureWarning)\n",
            "/usr/local/lib/python3.7/dist-packages/ipykernel_launcher.py:12: UserWarning: Pandas doesn't allow columns to be created via a new attribute name - see https://pandas.pydata.org/pandas-docs/stable/indexing.html#attribute-access\n",
            "  if sys.path[0] == '':\n",
            "/usr/local/lib/python3.7/dist-packages/ipykernel_launcher.py:14: UserWarning: Pandas doesn't allow columns to be created via a new attribute name - see https://pandas.pydata.org/pandas-docs/stable/indexing.html#attribute-access\n",
            "  \n",
            "/usr/local/lib/python3.7/dist-packages/sklearn/utils/deprecation.py:87: FutureWarning: Function safe_indexing is deprecated; safe_indexing is deprecated in version 0.22 and will be removed in version 0.24.\n",
            "  warnings.warn(msg, category=FutureWarning)\n"
          ],
          "name": "stderr"
        },
        {
          "output_type": "stream",
          "text": [
            "Index(['Season', 'Age', 'Childish_diseases', 'Accident',\n",
            "       'Surgical_intervention', 'High_fevers', 'alcohol_consumption',\n",
            "       'Smoking', 'hours_sitting', 'Output'],\n",
            "      dtype='object')\n",
            "Frequencia de classes Counter({'N': 88, 'O': 12})\n",
            "Frequencia de classes após balanceamento Counter({'N': 88, 'O': 88})\n",
            "########################\n",
            "Classes previstas com o X_test\n",
            "['O' 'N' 'N' 'O' 'N' 'O' 'O' 'O' 'N' 'N' 'N' 'O' 'O' 'O' 'O' 'O' 'O' 'N'\n",
            " 'N' 'O' 'O' 'N' 'O' 'N' 'N' 'N' 'N' 'O' 'O' 'O' 'N' 'O' 'N' 'O' 'O' 'N'\n",
            " 'N' 'N' 'O' 'O' 'N' 'O' 'O' 'O' 'O' 'N' 'N' 'N' 'N' 'O' 'O' 'N' 'N']\n",
            "Acurácia global: 0.8867924528301887\n"
          ],
          "name": "stdout"
        }
      ]
    },
    {
      "cell_type": "code",
      "metadata": {
        "colab": {
          "base_uri": "https://localhost:8080/"
        },
        "id": "y-BDG6bS3C4n",
        "outputId": "00f558a7-fcf4-431f-c756-89296f3978e9"
      },
      "source": [
        "# Validação usando Cross\n",
        "from sklearn.model_selection import cross_validate\n",
        "# cross_validate requer modelo obtido, atributos para teste X e Y, numero de segmentos\n",
        "cv_results = cross_validate(rf_fertility,X_train,Y_train,cv=10, return_train_score=True)\n",
        "print(sorted(cv_results.keys()))\n",
        "print(cv_results['test_score'])\n",
        "print(sorted(cv_results['test_score']))\n",
        "print(cv_results['train_score'])\n",
        "print(sorted(cv_results['train_score']))"
      ],
      "execution_count": null,
      "outputs": [
        {
          "output_type": "stream",
          "text": [
            "['fit_time', 'score_time', 'test_score', 'train_score']\n",
            "[0.92307692 0.92307692 0.84615385 0.91666667 0.83333333 0.75\n",
            " 0.91666667 0.91666667 0.91666667 1.        ]\n",
            "[0.75, 0.8333333333333334, 0.8461538461538461, 0.9166666666666666, 0.9166666666666666, 0.9166666666666666, 0.9166666666666666, 0.9230769230769231, 0.9230769230769231, 1.0]\n",
            "[0.99090909 0.99090909 1.         0.99099099 0.99099099 1.\n",
            " 0.99099099 0.99099099 0.99099099 0.99099099]\n",
            "[0.990909090909091, 0.990909090909091, 0.990990990990991, 0.990990990990991, 0.990990990990991, 0.990990990990991, 0.990990990990991, 0.990990990990991, 1.0, 1.0]\n"
          ],
          "name": "stdout"
        }
      ]
    },
    {
      "cell_type": "code",
      "metadata": {
        "colab": {
          "base_uri": "https://localhost:8080/"
        },
        "id": "Z5NZTQhF5fap",
        "outputId": "e4e39337-24e4-4879-ff2d-97a90c30e378"
      },
      "source": [
        "#calcular a média\n",
        "print('Score médio após cross validation:')\n",
        "print((cv_results['test_score']).mean())\n",
        "print((cv_results['train_score']).mean())"
      ],
      "execution_count": null,
      "outputs": [
        {
          "output_type": "stream",
          "text": [
            "Score médio após cross validation\n",
            "0.8942307692307694\n",
            "0.9927764127764128\n"
          ],
          "name": "stdout"
        }
      ]
    },
    {
      "cell_type": "code",
      "metadata": {
        "colab": {
          "base_uri": "https://localhost:8080/"
        },
        "id": "hb6EovOo6c_r",
        "outputId": "a646dfb3-57a5-4362-ba48-dc6462019428"
      },
      "source": [
        "#6.3 matriz de contingência\n",
        "from sklearn.metrics import confusion_matrix\n",
        "#passar para a confusion_matrix:\n",
        "# Classes reservadas para testes (Y_Test)\n",
        "# Classes obtidas apos o teste (y_previsto)\n",
        "\n",
        "matriz_contigencia=confusion_matrix(Y_test,y_previsto, labels=['N','O'])\n",
        "print(matriz_contigencia)"
      ],
      "execution_count": null,
      "outputs": [
        {
          "output_type": "stream",
          "text": [
            "[[23  4]\n",
            " [ 2 24]]\n"
          ],
          "name": "stdout"
        }
      ]
    },
    {
      "cell_type": "code",
      "metadata": {
        "colab": {
          "base_uri": "https://localhost:8080/"
        },
        "id": "IxNX7Uhl8N36",
        "outputId": "1aa06568-f16e-4b07-d602-0e953d723ba9"
      },
      "source": [
        "#6.4 Classification report: demonstrar os indicadores de acurácia do modelo\n",
        "from sklearn.metrics import classification_report\n",
        "#parametros: Y_test, y_previsto, nomes das classes\n",
        "# nomes_classes = ['N', 'O']\n",
        "nomes_classes = rf_fertility.classes_\n",
        "\n",
        "class_report = classification_report(Y_test, y_previsto, target_names=rf_fertility.classes_)\n",
        "print(class_report)"
      ],
      "execution_count": null,
      "outputs": [
        {
          "output_type": "stream",
          "text": [
            "              precision    recall  f1-score   support\n",
            "\n",
            "           N       0.92      0.85      0.88        27\n",
            "           O       0.86      0.92      0.89        26\n",
            "\n",
            "    accuracy                           0.89        53\n",
            "   macro avg       0.89      0.89      0.89        53\n",
            "weighted avg       0.89      0.89      0.89        53\n",
            "\n"
          ],
          "name": "stdout"
        }
      ]
    },
    {
      "cell_type": "code",
      "metadata": {
        "id": "p8CUEoP93Fxt"
      },
      "source": [
        "# #7. Salvar o modelo\n",
        "# #Salvar o modelo obtido em disco\n",
        "# from pickle import dump\n",
        "# dump(rf_fertility, open('fertility_randon_forest_model.pkl','wb'))"
      ],
      "execution_count": null,
      "outputs": []
    }
  ]
}